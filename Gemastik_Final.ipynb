{
  "nbformat": 4,
  "nbformat_minor": 0,
  "metadata": {
    "colab": {
      "name": "Gemastik-Final.ipynb",
      "provenance": [],
      "include_colab_link": true
    },
    "kernelspec": {
      "name": "python3",
      "display_name": "Python 3"
    },
    "language_info": {
      "name": "python"
    }
  },
  "cells": [
    {
      "cell_type": "markdown",
      "metadata": {
        "id": "view-in-github",
        "colab_type": "text"
      },
      "source": [
        "<a href=\"https://colab.research.google.com/github/akhfzz/gemastik21/blob/main/Gemastik_Final.ipynb\" target=\"_parent\"><img src=\"https://colab.research.google.com/assets/colab-badge.svg\" alt=\"Open In Colab\"/></a>"
      ]
    },
    {
      "cell_type": "code",
      "metadata": {
        "id": "SH3MH61O_1io",
        "outputId": "80f13f3c-3717-4143-b25d-5d41a488bd00",
        "colab": {
          "base_uri": "https://localhost:8080/",
          "height": 1000
        }
      },
      "source": [
        "!pip install Sastrawi\n",
        "!pip install sklearn\n",
        "!pip install swifter"
      ],
      "execution_count": 20,
      "outputs": [
        {
          "output_type": "stream",
          "name": "stdout",
          "text": [
            "Collecting Sastrawi\n",
            "  Downloading Sastrawi-1.0.1-py2.py3-none-any.whl (209 kB)\n",
            "\u001b[?25l\r\u001b[K     |█▋                              | 10 kB 22.4 MB/s eta 0:00:01\r\u001b[K     |███▏                            | 20 kB 28.1 MB/s eta 0:00:01\r\u001b[K     |████▊                           | 30 kB 32.5 MB/s eta 0:00:01\r\u001b[K     |██████▎                         | 40 kB 35.0 MB/s eta 0:00:01\r\u001b[K     |███████▉                        | 51 kB 36.7 MB/s eta 0:00:01\r\u001b[K     |█████████▍                      | 61 kB 31.7 MB/s eta 0:00:01\r\u001b[K     |███████████                     | 71 kB 28.2 MB/s eta 0:00:01\r\u001b[K     |████████████▌                   | 81 kB 27.2 MB/s eta 0:00:01\r\u001b[K     |██████████████                  | 92 kB 29.0 MB/s eta 0:00:01\r\u001b[K     |███████████████▋                | 102 kB 29.8 MB/s eta 0:00:01\r\u001b[K     |█████████████████▏              | 112 kB 29.8 MB/s eta 0:00:01\r\u001b[K     |██████████████████▊             | 122 kB 29.8 MB/s eta 0:00:01\r\u001b[K     |████████████████████▎           | 133 kB 29.8 MB/s eta 0:00:01\r\u001b[K     |█████████████████████▉          | 143 kB 29.8 MB/s eta 0:00:01\r\u001b[K     |███████████████████████▍        | 153 kB 29.8 MB/s eta 0:00:01\r\u001b[K     |█████████████████████████       | 163 kB 29.8 MB/s eta 0:00:01\r\u001b[K     |██████████████████████████▋     | 174 kB 29.8 MB/s eta 0:00:01\r\u001b[K     |████████████████████████████▏   | 184 kB 29.8 MB/s eta 0:00:01\r\u001b[K     |█████████████████████████████▊  | 194 kB 29.8 MB/s eta 0:00:01\r\u001b[K     |███████████████████████████████▎| 204 kB 29.8 MB/s eta 0:00:01\r\u001b[K     |████████████████████████████████| 209 kB 29.8 MB/s \n",
            "\u001b[?25hInstalling collected packages: Sastrawi\n",
            "Successfully installed Sastrawi-1.0.1\n",
            "Requirement already satisfied: sklearn in /usr/local/lib/python3.7/dist-packages (0.0)\n",
            "Requirement already satisfied: scikit-learn in /usr/local/lib/python3.7/dist-packages (from sklearn) (0.22.2.post1)\n",
            "Requirement already satisfied: numpy>=1.11.0 in /usr/local/lib/python3.7/dist-packages (from scikit-learn->sklearn) (1.19.5)\n",
            "Requirement already satisfied: joblib>=0.11 in /usr/local/lib/python3.7/dist-packages (from scikit-learn->sklearn) (1.0.1)\n",
            "Requirement already satisfied: scipy>=0.17.0 in /usr/local/lib/python3.7/dist-packages (from scikit-learn->sklearn) (1.4.1)\n",
            "Collecting swifter\n",
            "  Downloading swifter-1.0.9-py3-none-any.whl (14 kB)\n",
            "Collecting psutil>=5.6.6\n",
            "  Downloading psutil-5.8.0-cp37-cp37m-manylinux2010_x86_64.whl (296 kB)\n",
            "\u001b[K     |████████████████████████████████| 296 kB 44.8 MB/s \n",
            "\u001b[?25hRequirement already satisfied: ipywidgets>=7.0.0 in /usr/local/lib/python3.7/dist-packages (from swifter) (7.6.5)\n",
            "Requirement already satisfied: tqdm>=4.33.0 in /usr/local/lib/python3.7/dist-packages (from swifter) (4.62.3)\n",
            "Requirement already satisfied: bleach>=3.1.1 in /usr/local/lib/python3.7/dist-packages (from swifter) (4.1.0)\n",
            "Requirement already satisfied: parso>0.4.0 in /usr/local/lib/python3.7/dist-packages (from swifter) (0.8.2)\n",
            "Requirement already satisfied: cloudpickle>=0.2.2 in /usr/local/lib/python3.7/dist-packages (from swifter) (1.3.0)\n",
            "Requirement already satisfied: dask[dataframe]>=2.10.0 in /usr/local/lib/python3.7/dist-packages (from swifter) (2.12.0)\n",
            "Requirement already satisfied: pandas>=1.0.0 in /usr/local/lib/python3.7/dist-packages (from swifter) (1.1.5)\n",
            "Requirement already satisfied: packaging in /usr/local/lib/python3.7/dist-packages (from bleach>=3.1.1->swifter) (21.0)\n",
            "Requirement already satisfied: webencodings in /usr/local/lib/python3.7/dist-packages (from bleach>=3.1.1->swifter) (0.5.1)\n",
            "Requirement already satisfied: six>=1.9.0 in /usr/local/lib/python3.7/dist-packages (from bleach>=3.1.1->swifter) (1.15.0)\n",
            "Requirement already satisfied: numpy>=1.13.0 in /usr/local/lib/python3.7/dist-packages (from dask[dataframe]>=2.10.0->swifter) (1.19.5)\n",
            "Collecting partd>=0.3.10\n",
            "  Downloading partd-1.2.0-py3-none-any.whl (19 kB)\n",
            "Collecting fsspec>=0.6.0\n",
            "  Downloading fsspec-2021.10.0-py3-none-any.whl (125 kB)\n",
            "\u001b[K     |████████████████████████████████| 125 kB 53.8 MB/s \n",
            "\u001b[?25hRequirement already satisfied: toolz>=0.7.3 in /usr/local/lib/python3.7/dist-packages (from dask[dataframe]>=2.10.0->swifter) (0.11.1)\n",
            "Requirement already satisfied: ipython>=4.0.0 in /usr/local/lib/python3.7/dist-packages (from ipywidgets>=7.0.0->swifter) (5.5.0)\n",
            "Requirement already satisfied: ipython-genutils~=0.2.0 in /usr/local/lib/python3.7/dist-packages (from ipywidgets>=7.0.0->swifter) (0.2.0)\n",
            "Requirement already satisfied: nbformat>=4.2.0 in /usr/local/lib/python3.7/dist-packages (from ipywidgets>=7.0.0->swifter) (5.1.3)\n",
            "Requirement already satisfied: widgetsnbextension~=3.5.0 in /usr/local/lib/python3.7/dist-packages (from ipywidgets>=7.0.0->swifter) (3.5.1)\n",
            "Requirement already satisfied: jupyterlab-widgets>=1.0.0 in /usr/local/lib/python3.7/dist-packages (from ipywidgets>=7.0.0->swifter) (1.0.2)\n",
            "Requirement already satisfied: traitlets>=4.3.1 in /usr/local/lib/python3.7/dist-packages (from ipywidgets>=7.0.0->swifter) (5.1.0)\n",
            "Requirement already satisfied: ipykernel>=4.5.1 in /usr/local/lib/python3.7/dist-packages (from ipywidgets>=7.0.0->swifter) (4.10.1)\n",
            "Requirement already satisfied: jupyter-client in /usr/local/lib/python3.7/dist-packages (from ipykernel>=4.5.1->ipywidgets>=7.0.0->swifter) (5.3.5)\n",
            "Requirement already satisfied: tornado>=4.0 in /usr/local/lib/python3.7/dist-packages (from ipykernel>=4.5.1->ipywidgets>=7.0.0->swifter) (5.1.1)\n",
            "Requirement already satisfied: decorator in /usr/local/lib/python3.7/dist-packages (from ipython>=4.0.0->ipywidgets>=7.0.0->swifter) (4.4.2)\n",
            "Requirement already satisfied: setuptools>=18.5 in /usr/local/lib/python3.7/dist-packages (from ipython>=4.0.0->ipywidgets>=7.0.0->swifter) (57.4.0)\n",
            "Requirement already satisfied: pygments in /usr/local/lib/python3.7/dist-packages (from ipython>=4.0.0->ipywidgets>=7.0.0->swifter) (2.6.1)\n",
            "Requirement already satisfied: pexpect in /usr/local/lib/python3.7/dist-packages (from ipython>=4.0.0->ipywidgets>=7.0.0->swifter) (4.8.0)\n",
            "Requirement already satisfied: prompt-toolkit<2.0.0,>=1.0.4 in /usr/local/lib/python3.7/dist-packages (from ipython>=4.0.0->ipywidgets>=7.0.0->swifter) (1.0.18)\n",
            "Requirement already satisfied: simplegeneric>0.8 in /usr/local/lib/python3.7/dist-packages (from ipython>=4.0.0->ipywidgets>=7.0.0->swifter) (0.8.1)\n",
            "Requirement already satisfied: pickleshare in /usr/local/lib/python3.7/dist-packages (from ipython>=4.0.0->ipywidgets>=7.0.0->swifter) (0.7.5)\n",
            "Requirement already satisfied: jupyter-core in /usr/local/lib/python3.7/dist-packages (from nbformat>=4.2.0->ipywidgets>=7.0.0->swifter) (4.8.1)\n",
            "Requirement already satisfied: jsonschema!=2.5.0,>=2.4 in /usr/local/lib/python3.7/dist-packages (from nbformat>=4.2.0->ipywidgets>=7.0.0->swifter) (2.6.0)\n",
            "Requirement already satisfied: python-dateutil>=2.7.3 in /usr/local/lib/python3.7/dist-packages (from pandas>=1.0.0->swifter) (2.8.2)\n",
            "Requirement already satisfied: pytz>=2017.2 in /usr/local/lib/python3.7/dist-packages (from pandas>=1.0.0->swifter) (2018.9)\n",
            "Collecting locket\n",
            "  Downloading locket-0.2.1-py2.py3-none-any.whl (4.1 kB)\n",
            "Requirement already satisfied: wcwidth in /usr/local/lib/python3.7/dist-packages (from prompt-toolkit<2.0.0,>=1.0.4->ipython>=4.0.0->ipywidgets>=7.0.0->swifter) (0.2.5)\n",
            "Requirement already satisfied: notebook>=4.4.1 in /usr/local/lib/python3.7/dist-packages (from widgetsnbextension~=3.5.0->ipywidgets>=7.0.0->swifter) (5.3.1)\n",
            "Requirement already satisfied: terminado>=0.8.1 in /usr/local/lib/python3.7/dist-packages (from notebook>=4.4.1->widgetsnbextension~=3.5.0->ipywidgets>=7.0.0->swifter) (0.12.1)\n",
            "Requirement already satisfied: jinja2 in /usr/local/lib/python3.7/dist-packages (from notebook>=4.4.1->widgetsnbextension~=3.5.0->ipywidgets>=7.0.0->swifter) (2.11.3)\n",
            "Requirement already satisfied: nbconvert in /usr/local/lib/python3.7/dist-packages (from notebook>=4.4.1->widgetsnbextension~=3.5.0->ipywidgets>=7.0.0->swifter) (5.6.1)\n",
            "Requirement already satisfied: Send2Trash in /usr/local/lib/python3.7/dist-packages (from notebook>=4.4.1->widgetsnbextension~=3.5.0->ipywidgets>=7.0.0->swifter) (1.8.0)\n",
            "Requirement already satisfied: pyzmq>=13 in /usr/local/lib/python3.7/dist-packages (from jupyter-client->ipykernel>=4.5.1->ipywidgets>=7.0.0->swifter) (22.3.0)\n",
            "Requirement already satisfied: ptyprocess in /usr/local/lib/python3.7/dist-packages (from terminado>=0.8.1->notebook>=4.4.1->widgetsnbextension~=3.5.0->ipywidgets>=7.0.0->swifter) (0.7.0)\n",
            "Requirement already satisfied: MarkupSafe>=0.23 in /usr/local/lib/python3.7/dist-packages (from jinja2->notebook>=4.4.1->widgetsnbextension~=3.5.0->ipywidgets>=7.0.0->swifter) (2.0.1)\n",
            "Requirement already satisfied: testpath in /usr/local/lib/python3.7/dist-packages (from nbconvert->notebook>=4.4.1->widgetsnbextension~=3.5.0->ipywidgets>=7.0.0->swifter) (0.5.0)\n",
            "Requirement already satisfied: pandocfilters>=1.4.1 in /usr/local/lib/python3.7/dist-packages (from nbconvert->notebook>=4.4.1->widgetsnbextension~=3.5.0->ipywidgets>=7.0.0->swifter) (1.5.0)\n",
            "Requirement already satisfied: defusedxml in /usr/local/lib/python3.7/dist-packages (from nbconvert->notebook>=4.4.1->widgetsnbextension~=3.5.0->ipywidgets>=7.0.0->swifter) (0.7.1)\n",
            "Requirement already satisfied: mistune<2,>=0.8.1 in /usr/local/lib/python3.7/dist-packages (from nbconvert->notebook>=4.4.1->widgetsnbextension~=3.5.0->ipywidgets>=7.0.0->swifter) (0.8.4)\n",
            "Requirement already satisfied: entrypoints>=0.2.2 in /usr/local/lib/python3.7/dist-packages (from nbconvert->notebook>=4.4.1->widgetsnbextension~=3.5.0->ipywidgets>=7.0.0->swifter) (0.3)\n",
            "Requirement already satisfied: pyparsing>=2.0.2 in /usr/local/lib/python3.7/dist-packages (from packaging->bleach>=3.1.1->swifter) (2.4.7)\n",
            "Installing collected packages: locket, partd, fsspec, psutil, swifter\n",
            "  Attempting uninstall: psutil\n",
            "    Found existing installation: psutil 5.4.8\n",
            "    Uninstalling psutil-5.4.8:\n",
            "      Successfully uninstalled psutil-5.4.8\n",
            "Successfully installed fsspec-2021.10.0 locket-0.2.1 partd-1.2.0 psutil-5.8.0 swifter-1.0.9\n"
          ]
        },
        {
          "output_type": "display_data",
          "data": {
            "application/vnd.colab-display-data+json": {
              "pip_warning": {
                "packages": [
                  "psutil"
                ]
              }
            }
          },
          "metadata": {}
        }
      ]
    },
    {
      "cell_type": "code",
      "metadata": {
        "id": "a1BE93AUEUk8",
        "outputId": "77d08184-fc8b-45ad-8090-44dfb58af5f7",
        "colab": {
          "base_uri": "https://localhost:8080/",
          "height": 729
        }
      },
      "source": [
        "!pip install nlp-id"
      ],
      "execution_count": 23,
      "outputs": [
        {
          "output_type": "stream",
          "name": "stdout",
          "text": [
            "Collecting nlp-id\n",
            "  Downloading nlp_id-0.1.12.0.tar.gz (7.9 MB)\n",
            "\u001b[K     |████████████████████████████████| 7.9 MB 24.2 MB/s \n",
            "\u001b[?25hCollecting scikit-learn==0.22\n",
            "  Downloading scikit_learn-0.22-cp37-cp37m-manylinux1_x86_64.whl (7.0 MB)\n",
            "\u001b[K     |████████████████████████████████| 7.0 MB 42.7 MB/s \n",
            "\u001b[?25hCollecting nltk==3.4.5\n",
            "  Downloading nltk-3.4.5.zip (1.5 MB)\n",
            "\u001b[K     |████████████████████████████████| 1.5 MB 42.5 MB/s \n",
            "\u001b[?25hCollecting wget==3.2\n",
            "  Downloading wget-3.2.zip (10 kB)\n",
            "Requirement already satisfied: six in /usr/local/lib/python3.7/dist-packages (from nltk==3.4.5->nlp-id) (1.15.0)\n",
            "Requirement already satisfied: numpy>=1.11.0 in /usr/local/lib/python3.7/dist-packages (from scikit-learn==0.22->nlp-id) (1.19.5)\n",
            "Requirement already satisfied: scipy>=0.17.0 in /usr/local/lib/python3.7/dist-packages (from scikit-learn==0.22->nlp-id) (1.4.1)\n",
            "Requirement already satisfied: joblib>=0.11 in /usr/local/lib/python3.7/dist-packages (from scikit-learn==0.22->nlp-id) (1.0.1)\n",
            "Building wheels for collected packages: nlp-id, nltk, wget\n",
            "  Building wheel for nlp-id (setup.py) ... \u001b[?25l\u001b[?25hdone\n",
            "  Created wheel for nlp-id: filename=nlp_id-0.1.12.0-py3-none-any.whl size=8074105 sha256=d9155fe474b970311dd16711c0fabf7c0d528eca7f3418dd992464f19bca5752\n",
            "  Stored in directory: /root/.cache/pip/wheels/b2/50/48/da59531125bd94f48dfe66140f41d8fd8a4f04062050375013\n",
            "  Building wheel for nltk (setup.py) ... \u001b[?25l\u001b[?25hdone\n",
            "  Created wheel for nltk: filename=nltk-3.4.5-py3-none-any.whl size=1449920 sha256=61b23a562a63641991632e45944b84da83b0d948c8d6c548bc930ec84bfd7cb2\n",
            "  Stored in directory: /root/.cache/pip/wheels/48/8b/7f/473521e0c731c6566d631b281f323842bbda9bd819eb9a3ead\n",
            "  Building wheel for wget (setup.py) ... \u001b[?25l\u001b[?25hdone\n",
            "  Created wheel for wget: filename=wget-3.2-py3-none-any.whl size=9672 sha256=960ee757bf84c8cd721267cbb47c88bbe9bd7561260f94fb1b82d9afe613dfe3\n",
            "  Stored in directory: /root/.cache/pip/wheels/a1/b6/7c/0e63e34eb06634181c63adacca38b79ff8f35c37e3c13e3c02\n",
            "Successfully built nlp-id nltk wget\n",
            "Installing collected packages: wget, scikit-learn, nltk, nlp-id\n",
            "  Attempting uninstall: scikit-learn\n",
            "    Found existing installation: scikit-learn 0.22.2.post1\n",
            "    Uninstalling scikit-learn-0.22.2.post1:\n",
            "      Successfully uninstalled scikit-learn-0.22.2.post1\n",
            "  Attempting uninstall: nltk\n",
            "    Found existing installation: nltk 3.2.5\n",
            "    Uninstalling nltk-3.2.5:\n",
            "      Successfully uninstalled nltk-3.2.5\n",
            "Successfully installed nlp-id-0.1.12.0 nltk-3.4.5 scikit-learn-0.22 wget-3.2\n"
          ]
        },
        {
          "output_type": "display_data",
          "data": {
            "application/vnd.colab-display-data+json": {
              "pip_warning": {
                "packages": [
                  "nltk",
                  "sklearn"
                ]
              }
            }
          },
          "metadata": {}
        }
      ]
    },
    {
      "cell_type": "code",
      "metadata": {
        "id": "0OCIxmuxHYe3",
        "outputId": "bd8a256b-a211-41fb-8fa5-b82e1951839d",
        "colab": {
          "base_uri": "https://localhost:8080/"
        }
      },
      "source": [
        "!pip install swifter"
      ],
      "execution_count": 46,
      "outputs": [
        {
          "output_type": "stream",
          "name": "stdout",
          "text": [
            "Requirement already satisfied: swifter in /usr/local/lib/python3.7/dist-packages (1.0.9)\n",
            "Requirement already satisfied: dask[dataframe]>=2.10.0 in /usr/local/lib/python3.7/dist-packages (from swifter) (2.12.0)\n",
            "Requirement already satisfied: bleach>=3.1.1 in /usr/local/lib/python3.7/dist-packages (from swifter) (4.1.0)\n",
            "Requirement already satisfied: tqdm>=4.33.0 in /usr/local/lib/python3.7/dist-packages (from swifter) (4.62.3)\n",
            "Requirement already satisfied: cloudpickle>=0.2.2 in /usr/local/lib/python3.7/dist-packages (from swifter) (1.3.0)\n",
            "Requirement already satisfied: ipywidgets>=7.0.0 in /usr/local/lib/python3.7/dist-packages (from swifter) (7.6.5)\n",
            "Requirement already satisfied: psutil>=5.6.6 in /usr/local/lib/python3.7/dist-packages (from swifter) (5.8.0)\n",
            "Requirement already satisfied: parso>0.4.0 in /usr/local/lib/python3.7/dist-packages (from swifter) (0.8.2)\n",
            "Requirement already satisfied: pandas>=1.0.0 in /usr/local/lib/python3.7/dist-packages (from swifter) (1.1.5)\n",
            "Requirement already satisfied: six>=1.9.0 in /usr/local/lib/python3.7/dist-packages (from bleach>=3.1.1->swifter) (1.15.0)\n",
            "Requirement already satisfied: packaging in /usr/local/lib/python3.7/dist-packages (from bleach>=3.1.1->swifter) (21.0)\n",
            "Requirement already satisfied: webencodings in /usr/local/lib/python3.7/dist-packages (from bleach>=3.1.1->swifter) (0.5.1)\n",
            "Requirement already satisfied: fsspec>=0.6.0 in /usr/local/lib/python3.7/dist-packages (from dask[dataframe]>=2.10.0->swifter) (2021.10.0)\n",
            "Requirement already satisfied: partd>=0.3.10 in /usr/local/lib/python3.7/dist-packages (from dask[dataframe]>=2.10.0->swifter) (1.2.0)\n",
            "Requirement already satisfied: toolz>=0.7.3 in /usr/local/lib/python3.7/dist-packages (from dask[dataframe]>=2.10.0->swifter) (0.11.1)\n",
            "Requirement already satisfied: numpy>=1.13.0 in /usr/local/lib/python3.7/dist-packages (from dask[dataframe]>=2.10.0->swifter) (1.19.5)\n",
            "Requirement already satisfied: ipython-genutils~=0.2.0 in /usr/local/lib/python3.7/dist-packages (from ipywidgets>=7.0.0->swifter) (0.2.0)\n",
            "Requirement already satisfied: ipykernel>=4.5.1 in /usr/local/lib/python3.7/dist-packages (from ipywidgets>=7.0.0->swifter) (4.10.1)\n",
            "Requirement already satisfied: traitlets>=4.3.1 in /usr/local/lib/python3.7/dist-packages (from ipywidgets>=7.0.0->swifter) (5.1.0)\n",
            "Requirement already satisfied: jupyterlab-widgets>=1.0.0 in /usr/local/lib/python3.7/dist-packages (from ipywidgets>=7.0.0->swifter) (1.0.2)\n",
            "Requirement already satisfied: ipython>=4.0.0 in /usr/local/lib/python3.7/dist-packages (from ipywidgets>=7.0.0->swifter) (5.5.0)\n",
            "Requirement already satisfied: widgetsnbextension~=3.5.0 in /usr/local/lib/python3.7/dist-packages (from ipywidgets>=7.0.0->swifter) (3.5.1)\n",
            "Requirement already satisfied: nbformat>=4.2.0 in /usr/local/lib/python3.7/dist-packages (from ipywidgets>=7.0.0->swifter) (5.1.3)\n",
            "Requirement already satisfied: tornado>=4.0 in /usr/local/lib/python3.7/dist-packages (from ipykernel>=4.5.1->ipywidgets>=7.0.0->swifter) (5.1.1)\n",
            "Requirement already satisfied: jupyter-client in /usr/local/lib/python3.7/dist-packages (from ipykernel>=4.5.1->ipywidgets>=7.0.0->swifter) (5.3.5)\n",
            "Requirement already satisfied: pickleshare in /usr/local/lib/python3.7/dist-packages (from ipython>=4.0.0->ipywidgets>=7.0.0->swifter) (0.7.5)\n",
            "Requirement already satisfied: pygments in /usr/local/lib/python3.7/dist-packages (from ipython>=4.0.0->ipywidgets>=7.0.0->swifter) (2.6.1)\n",
            "Requirement already satisfied: prompt-toolkit<2.0.0,>=1.0.4 in /usr/local/lib/python3.7/dist-packages (from ipython>=4.0.0->ipywidgets>=7.0.0->swifter) (1.0.18)\n",
            "Requirement already satisfied: decorator in /usr/local/lib/python3.7/dist-packages (from ipython>=4.0.0->ipywidgets>=7.0.0->swifter) (4.4.2)\n",
            "Requirement already satisfied: setuptools>=18.5 in /usr/local/lib/python3.7/dist-packages (from ipython>=4.0.0->ipywidgets>=7.0.0->swifter) (57.4.0)\n",
            "Requirement already satisfied: simplegeneric>0.8 in /usr/local/lib/python3.7/dist-packages (from ipython>=4.0.0->ipywidgets>=7.0.0->swifter) (0.8.1)\n",
            "Requirement already satisfied: pexpect in /usr/local/lib/python3.7/dist-packages (from ipython>=4.0.0->ipywidgets>=7.0.0->swifter) (4.8.0)\n",
            "Requirement already satisfied: jsonschema!=2.5.0,>=2.4 in /usr/local/lib/python3.7/dist-packages (from nbformat>=4.2.0->ipywidgets>=7.0.0->swifter) (2.6.0)\n",
            "Requirement already satisfied: jupyter-core in /usr/local/lib/python3.7/dist-packages (from nbformat>=4.2.0->ipywidgets>=7.0.0->swifter) (4.8.1)\n",
            "Requirement already satisfied: pytz>=2017.2 in /usr/local/lib/python3.7/dist-packages (from pandas>=1.0.0->swifter) (2018.9)\n",
            "Requirement already satisfied: python-dateutil>=2.7.3 in /usr/local/lib/python3.7/dist-packages (from pandas>=1.0.0->swifter) (2.8.2)\n",
            "Requirement already satisfied: locket in /usr/local/lib/python3.7/dist-packages (from partd>=0.3.10->dask[dataframe]>=2.10.0->swifter) (0.2.1)\n",
            "Requirement already satisfied: wcwidth in /usr/local/lib/python3.7/dist-packages (from prompt-toolkit<2.0.0,>=1.0.4->ipython>=4.0.0->ipywidgets>=7.0.0->swifter) (0.2.5)\n",
            "Requirement already satisfied: notebook>=4.4.1 in /usr/local/lib/python3.7/dist-packages (from widgetsnbextension~=3.5.0->ipywidgets>=7.0.0->swifter) (5.3.1)\n",
            "Requirement already satisfied: nbconvert in /usr/local/lib/python3.7/dist-packages (from notebook>=4.4.1->widgetsnbextension~=3.5.0->ipywidgets>=7.0.0->swifter) (5.6.1)\n",
            "Requirement already satisfied: Send2Trash in /usr/local/lib/python3.7/dist-packages (from notebook>=4.4.1->widgetsnbextension~=3.5.0->ipywidgets>=7.0.0->swifter) (1.8.0)\n",
            "Requirement already satisfied: jinja2 in /usr/local/lib/python3.7/dist-packages (from notebook>=4.4.1->widgetsnbextension~=3.5.0->ipywidgets>=7.0.0->swifter) (2.11.3)\n",
            "Requirement already satisfied: terminado>=0.8.1 in /usr/local/lib/python3.7/dist-packages (from notebook>=4.4.1->widgetsnbextension~=3.5.0->ipywidgets>=7.0.0->swifter) (0.12.1)\n",
            "Requirement already satisfied: pyzmq>=13 in /usr/local/lib/python3.7/dist-packages (from jupyter-client->ipykernel>=4.5.1->ipywidgets>=7.0.0->swifter) (22.3.0)\n",
            "Requirement already satisfied: ptyprocess in /usr/local/lib/python3.7/dist-packages (from terminado>=0.8.1->notebook>=4.4.1->widgetsnbextension~=3.5.0->ipywidgets>=7.0.0->swifter) (0.7.0)\n",
            "Requirement already satisfied: MarkupSafe>=0.23 in /usr/local/lib/python3.7/dist-packages (from jinja2->notebook>=4.4.1->widgetsnbextension~=3.5.0->ipywidgets>=7.0.0->swifter) (2.0.1)\n",
            "Requirement already satisfied: mistune<2,>=0.8.1 in /usr/local/lib/python3.7/dist-packages (from nbconvert->notebook>=4.4.1->widgetsnbextension~=3.5.0->ipywidgets>=7.0.0->swifter) (0.8.4)\n",
            "Requirement already satisfied: entrypoints>=0.2.2 in /usr/local/lib/python3.7/dist-packages (from nbconvert->notebook>=4.4.1->widgetsnbextension~=3.5.0->ipywidgets>=7.0.0->swifter) (0.3)\n",
            "Requirement already satisfied: pandocfilters>=1.4.1 in /usr/local/lib/python3.7/dist-packages (from nbconvert->notebook>=4.4.1->widgetsnbextension~=3.5.0->ipywidgets>=7.0.0->swifter) (1.5.0)\n",
            "Requirement already satisfied: testpath in /usr/local/lib/python3.7/dist-packages (from nbconvert->notebook>=4.4.1->widgetsnbextension~=3.5.0->ipywidgets>=7.0.0->swifter) (0.5.0)\n",
            "Requirement already satisfied: defusedxml in /usr/local/lib/python3.7/dist-packages (from nbconvert->notebook>=4.4.1->widgetsnbextension~=3.5.0->ipywidgets>=7.0.0->swifter) (0.7.1)\n",
            "Requirement already satisfied: pyparsing>=2.0.2 in /usr/local/lib/python3.7/dist-packages (from packaging->bleach>=3.1.1->swifter) (2.4.7)\n"
          ]
        }
      ]
    },
    {
      "cell_type": "code",
      "metadata": {
        "id": "XbGCOW9rGi2r",
        "outputId": "4bc71be5-04eb-4e35-996a-2558bbb83284",
        "colab": {
          "base_uri": "https://localhost:8080/"
        }
      },
      "source": [
        "nltk.download('stopwords')\n",
        "nltk.download('punkt')\n",
        "nltk.download('averaged_perceptron_tagger')\n",
        "nltk.download('wordnet')"
      ],
      "execution_count": 43,
      "outputs": [
        {
          "output_type": "stream",
          "name": "stdout",
          "text": [
            "[nltk_data] Downloading package stopwords to /root/nltk_data...\n",
            "[nltk_data]   Unzipping corpora/stopwords.zip.\n",
            "[nltk_data] Downloading package punkt to /root/nltk_data...\n",
            "[nltk_data]   Unzipping tokenizers/punkt.zip.\n",
            "[nltk_data] Downloading package averaged_perceptron_tagger to\n",
            "[nltk_data]     /root/nltk_data...\n",
            "[nltk_data]   Unzipping taggers/averaged_perceptron_tagger.zip.\n",
            "[nltk_data] Downloading package wordnet to /root/nltk_data...\n",
            "[nltk_data]   Unzipping corpora/wordnet.zip.\n"
          ]
        },
        {
          "output_type": "execute_result",
          "data": {
            "text/plain": [
              "True"
            ]
          },
          "metadata": {},
          "execution_count": 43
        }
      ]
    },
    {
      "cell_type": "code",
      "metadata": {
        "id": "7wL48C-9EJa_"
      },
      "source": [
        "import pandas as pd\n",
        "import os\n",
        "import pandas as pd \n",
        "import numpy as np \n",
        "from nltk.stem.porter import PorterStemmer\n",
        "from nltk.stem.wordnet import WordNetLemmatizer\n",
        "from Sastrawi.StopWordRemover.StopWordRemoverFactory import ArrayDictionary, StopWordRemoverFactory, StopWordRemover\n",
        "from nltk.tokenize import word_tokenize\n",
        "from nlp_id.lemmatizer import Lemmatizer\n",
        "import ast\n",
        "from nltk.corpus import stopwords\n",
        "import matplotlib.pyplot as plt \n",
        "import seaborn as sns\n",
        "from sklearn.model_selection import train_test_split\n",
        "import re\n",
        "import inflect\n",
        "import nltk"
      ],
      "execution_count": 24,
      "outputs": []
    },
    {
      "cell_type": "code",
      "metadata": {
        "id": "nw_kwY3X_5Jq"
      },
      "source": [
        "train_ds = '/content/drive/MyDrive/Gemastik21/final-dataset/soal-TRAINING-VALIDATION-Gemastik2021/train_preprocess.csv'\n",
        "valid_ds = '/content/drive/MyDrive/Gemastik21/final-dataset/soal-TRAINING-VALIDATION-Gemastik2021/valid_preprocess.csv'"
      ],
      "execution_count": 4,
      "outputs": []
    },
    {
      "cell_type": "code",
      "metadata": {
        "id": "g98t2vzSBf6-",
        "outputId": "62d8039e-f773-416c-c85c-0397538a4a7f",
        "colab": {
          "base_uri": "https://localhost:8080/"
        }
      },
      "source": [
        "from google.colab import drive\n",
        "drive.mount('/content/drive')"
      ],
      "execution_count": 1,
      "outputs": [
        {
          "output_type": "stream",
          "name": "stdout",
          "text": [
            "Mounted at /content/drive\n"
          ]
        }
      ]
    },
    {
      "cell_type": "code",
      "metadata": {
        "id": "tRQfkuWLAL9Q"
      },
      "source": [
        "url = 'drive/MyDrive/soal-TRAINING-VALIDATION-Gemastik2021/'\n",
        "filename = os.listdir(url)"
      ],
      "execution_count": 14,
      "outputs": []
    },
    {
      "cell_type": "code",
      "metadata": {
        "id": "omTYQoBdCAmC",
        "outputId": "e70177be-399f-446f-ec31-fcfc3cc35b10",
        "colab": {
          "base_uri": "https://localhost:8080/"
        }
      },
      "source": [
        "filename"
      ],
      "execution_count": 15,
      "outputs": [
        {
          "output_type": "execute_result",
          "data": {
            "text/plain": [
              "['train_preprocess.csv', 'valid_preprocess.csv']"
            ]
          },
          "metadata": {},
          "execution_count": 15
        }
      ]
    },
    {
      "cell_type": "markdown",
      "metadata": {
        "id": "bzAoqzGUH0ve"
      },
      "source": [
        "**Here**"
      ]
    },
    {
      "cell_type": "code",
      "metadata": {
        "id": "JRIk1X6dFCH5"
      },
      "source": [
        "valid = pd.read_csv(url+'valid_preprocess.csv')"
      ],
      "execution_count": 30,
      "outputs": []
    },
    {
      "cell_type": "code",
      "metadata": {
        "id": "vcVj0tZdCrJj"
      },
      "source": [
        "df = pd.read_csv(url + 'train_preprocess.csv')"
      ],
      "execution_count": 27,
      "outputs": []
    },
    {
      "cell_type": "code",
      "metadata": {
        "id": "00992YcsD5wd",
        "outputId": "cec7077c-5224-49c2-a68b-21b64868a2c0",
        "colab": {
          "base_uri": "https://localhost:8080/",
          "height": 206
        }
      },
      "source": [
        "df.head()"
      ],
      "execution_count": 28,
      "outputs": [
        {
          "output_type": "execute_result",
          "data": {
            "text/html": [
              "<div>\n",
              "<style scoped>\n",
              "    .dataframe tbody tr th:only-of-type {\n",
              "        vertical-align: middle;\n",
              "    }\n",
              "\n",
              "    .dataframe tbody tr th {\n",
              "        vertical-align: top;\n",
              "    }\n",
              "\n",
              "    .dataframe thead th {\n",
              "        text-align: right;\n",
              "    }\n",
              "</style>\n",
              "<table border=\"1\" class=\"dataframe\">\n",
              "  <thead>\n",
              "    <tr style=\"text-align: right;\">\n",
              "      <th></th>\n",
              "      <th>question</th>\n",
              "      <th>passage</th>\n",
              "      <th>seq_label</th>\n",
              "    </tr>\n",
              "  </thead>\n",
              "  <tbody>\n",
              "    <tr>\n",
              "      <th>0</th>\n",
              "      <td>['Kelompok', 'apakah', 'yang', 'menyatakan', '...</td>\n",
              "      <td>['Lewat', 'telepon', 'ke', 'kantor', 'berita',...</td>\n",
              "      <td>['O', 'O', 'O', 'O', 'O', 'O', 'O', 'O', 'O', ...</td>\n",
              "    </tr>\n",
              "    <tr>\n",
              "      <th>1</th>\n",
              "      <td>['Di', 'pulau', 'manakah', ',', 'PT', 'Mutiara...</td>\n",
              "      <td>['Sejak', 'tahun', '1980', '-', 'an', 'di', 'K...</td>\n",
              "      <td>['O', 'O', 'O', 'O', 'O', 'O', 'O', 'O', 'O', ...</td>\n",
              "    </tr>\n",
              "    <tr>\n",
              "      <th>2</th>\n",
              "      <td>['Apakah', 'warna', 'pasir', 'pada', 'pesisir'...</td>\n",
              "      <td>['Titik', 'kedua', 'adalah', 'Pantai', 'Baturu...</td>\n",
              "      <td>['O', 'O', 'O', 'O', 'O', 'O', 'O', 'O', 'O', ...</td>\n",
              "    </tr>\n",
              "    <tr>\n",
              "      <th>3</th>\n",
              "      <td>['Apa', 'nama', 'perusahaan', 'China', 'yang',...</td>\n",
              "      <td>['Sichuan', ',', 'Kompas', '-', 'Pemerintah', ...</td>\n",
              "      <td>['O', 'O', 'O', 'O', 'O', 'O', 'O', 'O', 'O', ...</td>\n",
              "    </tr>\n",
              "    <tr>\n",
              "      <th>4</th>\n",
              "      <td>['Siapa', 'yang', 'akan', 'memindahkan', 'Patu...</td>\n",
              "      <td>['Jakarta', ',', 'Kompas', '-', 'Patung', 'Kar...</td>\n",
              "      <td>['O', 'O', 'O', 'O', 'O', 'O', 'O', 'O', 'O', ...</td>\n",
              "    </tr>\n",
              "  </tbody>\n",
              "</table>\n",
              "</div>"
            ],
            "text/plain": [
              "                                            question  ...                                          seq_label\n",
              "0  ['Kelompok', 'apakah', 'yang', 'menyatakan', '...  ...  ['O', 'O', 'O', 'O', 'O', 'O', 'O', 'O', 'O', ...\n",
              "1  ['Di', 'pulau', 'manakah', ',', 'PT', 'Mutiara...  ...  ['O', 'O', 'O', 'O', 'O', 'O', 'O', 'O', 'O', ...\n",
              "2  ['Apakah', 'warna', 'pasir', 'pada', 'pesisir'...  ...  ['O', 'O', 'O', 'O', 'O', 'O', 'O', 'O', 'O', ...\n",
              "3  ['Apa', 'nama', 'perusahaan', 'China', 'yang',...  ...  ['O', 'O', 'O', 'O', 'O', 'O', 'O', 'O', 'O', ...\n",
              "4  ['Siapa', 'yang', 'akan', 'memindahkan', 'Patu...  ...  ['O', 'O', 'O', 'O', 'O', 'O', 'O', 'O', 'O', ...\n",
              "\n",
              "[5 rows x 3 columns]"
            ]
          },
          "metadata": {},
          "execution_count": 28
        }
      ]
    },
    {
      "cell_type": "code",
      "metadata": {
        "id": "2aDtIQyDD84k",
        "outputId": "363dc5f8-ff95-41e0-8d27-8e7a2f1685ca",
        "colab": {
          "base_uri": "https://localhost:8080/"
        }
      },
      "source": [
        "df.info()"
      ],
      "execution_count": 34,
      "outputs": [
        {
          "output_type": "stream",
          "name": "stdout",
          "text": [
            "<class 'pandas.core.frame.DataFrame'>\n",
            "RangeIndex: 2495 entries, 0 to 2494\n",
            "Data columns (total 3 columns):\n",
            " #   Column     Non-Null Count  Dtype \n",
            "---  ------     --------------  ----- \n",
            " 0   question   2495 non-null   object\n",
            " 1   passage    2495 non-null   object\n",
            " 2   seq_label  2495 non-null   object\n",
            "dtypes: object(3)\n",
            "memory usage: 58.6+ KB\n"
          ]
        }
      ]
    },
    {
      "cell_type": "code",
      "metadata": {
        "id": "ZgoqQC6UEfbj",
        "outputId": "b898bb8e-dfc4-426f-9484-12ccf0dfb124",
        "colab": {
          "base_uri": "https://localhost:8080/",
          "height": 424
        }
      },
      "source": [
        "df[~df.duplicated(subset='question')]"
      ],
      "execution_count": 33,
      "outputs": [
        {
          "output_type": "execute_result",
          "data": {
            "text/html": [
              "<div>\n",
              "<style scoped>\n",
              "    .dataframe tbody tr th:only-of-type {\n",
              "        vertical-align: middle;\n",
              "    }\n",
              "\n",
              "    .dataframe tbody tr th {\n",
              "        vertical-align: top;\n",
              "    }\n",
              "\n",
              "    .dataframe thead th {\n",
              "        text-align: right;\n",
              "    }\n",
              "</style>\n",
              "<table border=\"1\" class=\"dataframe\">\n",
              "  <thead>\n",
              "    <tr style=\"text-align: right;\">\n",
              "      <th></th>\n",
              "      <th>question</th>\n",
              "      <th>passage</th>\n",
              "      <th>seq_label</th>\n",
              "    </tr>\n",
              "  </thead>\n",
              "  <tbody>\n",
              "    <tr>\n",
              "      <th>0</th>\n",
              "      <td>['Kelompok', 'apakah', 'yang', 'menyatakan', '...</td>\n",
              "      <td>['Lewat', 'telepon', 'ke', 'kantor', 'berita',...</td>\n",
              "      <td>['O', 'O', 'O', 'O', 'O', 'O', 'O', 'O', 'O', ...</td>\n",
              "    </tr>\n",
              "    <tr>\n",
              "      <th>1</th>\n",
              "      <td>['Di', 'pulau', 'manakah', ',', 'PT', 'Mutiara...</td>\n",
              "      <td>['Sejak', 'tahun', '1980', '-', 'an', 'di', 'K...</td>\n",
              "      <td>['O', 'O', 'O', 'O', 'O', 'O', 'O', 'O', 'O', ...</td>\n",
              "    </tr>\n",
              "    <tr>\n",
              "      <th>2</th>\n",
              "      <td>['Apakah', 'warna', 'pasir', 'pada', 'pesisir'...</td>\n",
              "      <td>['Titik', 'kedua', 'adalah', 'Pantai', 'Baturu...</td>\n",
              "      <td>['O', 'O', 'O', 'O', 'O', 'O', 'O', 'O', 'O', ...</td>\n",
              "    </tr>\n",
              "    <tr>\n",
              "      <th>3</th>\n",
              "      <td>['Apa', 'nama', 'perusahaan', 'China', 'yang',...</td>\n",
              "      <td>['Sichuan', ',', 'Kompas', '-', 'Pemerintah', ...</td>\n",
              "      <td>['O', 'O', 'O', 'O', 'O', 'O', 'O', 'O', 'O', ...</td>\n",
              "    </tr>\n",
              "    <tr>\n",
              "      <th>4</th>\n",
              "      <td>['Siapa', 'yang', 'akan', 'memindahkan', 'Patu...</td>\n",
              "      <td>['Jakarta', ',', 'Kompas', '-', 'Patung', 'Kar...</td>\n",
              "      <td>['O', 'O', 'O', 'O', 'O', 'O', 'O', 'O', 'O', ...</td>\n",
              "    </tr>\n",
              "    <tr>\n",
              "      <th>...</th>\n",
              "      <td>...</td>\n",
              "      <td>...</td>\n",
              "      <td>...</td>\n",
              "    </tr>\n",
              "    <tr>\n",
              "      <th>2490</th>\n",
              "      <td>['Orkestra', 'apakah', 'yang', 'dipimpin', 'Ad...</td>\n",
              "      <td>['Tanggal', '28', 'September', 'mendatang', 'd...</td>\n",
              "      <td>['O', 'O', 'O', 'O', 'O', 'O', 'O', 'O', 'O', ...</td>\n",
              "    </tr>\n",
              "    <tr>\n",
              "      <th>2491</th>\n",
              "      <td>['Kapankah', 'China', 'meluncurkan', 'wahana',...</td>\n",
              "      <td>['Adapun', 'program', 'yang', 'berlangsung', '...</td>\n",
              "      <td>['O', 'O', 'O', 'O', 'O', 'O', 'O', 'O', 'O', ...</td>\n",
              "    </tr>\n",
              "    <tr>\n",
              "      <th>2492</th>\n",
              "      <td>['Apakah', 'nama', 'bandara', 'internasional',...</td>\n",
              "      <td>['Toronto', ',', 'Rabu', '-', 'Seluruh', '309'...</td>\n",
              "      <td>['O', 'O', 'O', 'O', 'O', 'O', 'O', 'O', 'O', ...</td>\n",
              "    </tr>\n",
              "    <tr>\n",
              "      <th>2493</th>\n",
              "      <td>['Siapakah', 'nama', 'atlet', 'senam', 'putra'...</td>\n",
              "      <td>['Sementara', 'di', 'nomor', 'senam', 'artisti...</td>\n",
              "      <td>['O', 'O', 'O', 'O', 'O', 'O', 'O', 'O', 'O', ...</td>\n",
              "    </tr>\n",
              "    <tr>\n",
              "      <th>2494</th>\n",
              "      <td>['Rolf', 'Soiron', 'belajar', 'sejarah', 'di',...</td>\n",
              "      <td>['Ketika', 'masih', 'kuliah', ',', 'Rolf', 'So...</td>\n",
              "      <td>['O', 'O', 'O', 'O', 'O', 'O', 'O', 'O', 'O', ...</td>\n",
              "    </tr>\n",
              "  </tbody>\n",
              "</table>\n",
              "<p>2412 rows × 3 columns</p>\n",
              "</div>"
            ],
            "text/plain": [
              "                                               question  ...                                          seq_label\n",
              "0     ['Kelompok', 'apakah', 'yang', 'menyatakan', '...  ...  ['O', 'O', 'O', 'O', 'O', 'O', 'O', 'O', 'O', ...\n",
              "1     ['Di', 'pulau', 'manakah', ',', 'PT', 'Mutiara...  ...  ['O', 'O', 'O', 'O', 'O', 'O', 'O', 'O', 'O', ...\n",
              "2     ['Apakah', 'warna', 'pasir', 'pada', 'pesisir'...  ...  ['O', 'O', 'O', 'O', 'O', 'O', 'O', 'O', 'O', ...\n",
              "3     ['Apa', 'nama', 'perusahaan', 'China', 'yang',...  ...  ['O', 'O', 'O', 'O', 'O', 'O', 'O', 'O', 'O', ...\n",
              "4     ['Siapa', 'yang', 'akan', 'memindahkan', 'Patu...  ...  ['O', 'O', 'O', 'O', 'O', 'O', 'O', 'O', 'O', ...\n",
              "...                                                 ...  ...                                                ...\n",
              "2490  ['Orkestra', 'apakah', 'yang', 'dipimpin', 'Ad...  ...  ['O', 'O', 'O', 'O', 'O', 'O', 'O', 'O', 'O', ...\n",
              "2491  ['Kapankah', 'China', 'meluncurkan', 'wahana',...  ...  ['O', 'O', 'O', 'O', 'O', 'O', 'O', 'O', 'O', ...\n",
              "2492  ['Apakah', 'nama', 'bandara', 'internasional',...  ...  ['O', 'O', 'O', 'O', 'O', 'O', 'O', 'O', 'O', ...\n",
              "2493  ['Siapakah', 'nama', 'atlet', 'senam', 'putra'...  ...  ['O', 'O', 'O', 'O', 'O', 'O', 'O', 'O', 'O', ...\n",
              "2494  ['Rolf', 'Soiron', 'belajar', 'sejarah', 'di',...  ...  ['O', 'O', 'O', 'O', 'O', 'O', 'O', 'O', 'O', ...\n",
              "\n",
              "[2412 rows x 3 columns]"
            ]
          },
          "metadata": {},
          "execution_count": 33
        }
      ]
    },
    {
      "cell_type": "code",
      "metadata": {
        "id": "RXz6geU3GNk7"
      },
      "source": [
        "extra_stopwords = ['ayo', 'dan', 'yg', 'ini', 'dengan', 'to','ya', 'yes', 'sih'\n",
        "                    'itu', 'dari', 'ada', 'dalam', 'is', 'di',\n",
        "                    'ga', 'ya', 'ke', 'el', 'the', 'jg',\n",
        "                    'bgtu','sdh','org','krn','msh','utk',\n",
        "                    'dgn','ni','sm','udh','bnyk','jgn',\n",
        "                    'dll','jd','tp','pd','tdk','ambe',\n",
        "                    'guys','gini','for','bgt','ah',\n",
        "                    'nggak','biar','deh','nih','klo',\n",
        "                    'yg','gak','nya','kl','bikin','bhw',\n",
        "                    'ya','aja','ga','ha','si','from',\n",
        "                    'the','at','yak','have','to','ini',\n",
        "                    'itu','dari','dan','ada','dalam',\n",
        "                    'is','ke','el','eh','yuk','kuy',\n",
        "                    'blm','kan','klo','tetap','pada',\n",
        "                    'pda','kalo','sama','yang','tapi',\n",
        "                    'kok','lagi','di','juga','mau',\n",
        "                    'of','dah','yah','tuh','emang','pas',\n",
        "                    'lg','emg','karna','be','ngga','nah',\n",
        "                    'RT', 'replying', 'to', 'adanya', 'adapun', 'agak', 'agaknya',\n",
        "                    'agar', 'akulah', 'amat', 'amatlah', 'andalah', 'antar', 'antara', 'antaranya',\n",
        "                    'apalagi', 'apatah', 'artinya', 'asal', 'asalkan', 'atas', 'bagai', 'bagaikan',\n",
        "                    'bagi', 'bagian', 'bahkan', 'bahwa', 'bahwasanya', 'bakal', 'bakalan', 'balik',\n",
        "                    'bapak', 'baru', 'bawah', 'beberapa', 'begini', 'beginian', 'beginikah',\n",
        "                    'begitu', 'begitukah', 'begitulah', 'begitupun', 'bekerja', 'belakang',\n",
        "                    'belakangan', 'berada', 'berapalah', 'berbagai', 'berikut', 'berikutnya',\n",
        "                    'berkenaan', 'berlainan', 'bermacam', 'bermacam-macam', 'bermaksud', 'bermula'\n",
        "                    'bersama', 'bersama-sama', 'berturut', 'berturut-turut', 'berupa', 'besar', 'betul',\n",
        "                    'biasa', 'biasanya', 'bila', 'buat', 'bukannya', 'bulan', 'bung', 'cuma',\n",
        "                    'dahulu', 'dalam', 'dan', 'dapat', 'dari', 'daripada', 'datang', 'dekat', 'demi', \n",
        "                    'demikian', 'dengan', 'depan', 'dia', 'dialah', 'diantara', 'diantaranya', 'dibuat',\n",
        "                    'dibuatnya', 'didapat', 'didatangkan', 'digunakan', 'diibaratkan', 'diibaratkannya',\n",
        "                    'diketahuinya', 'dikira', 'dilakukan', 'dilalui', 'dilihat', 'dimaksud',\n",
        "                    'dimaksudkan', 'dimaksudkannya', 'dimaksudnya', 'dimisalkan', 'diperbuat',\n",
        "                    'diperbuatnya', 'dipergunakan', 'dipersoalkan', 'dipunyai', 'diri', 'dirinya', \n",
        "                    'disebut', 'disebutkan', 'disebutkannya', 'disini', 'disinilah', 'ditunjuk', \n",
        "                    'ditunjuki', 'dong', 'dulu', 'guna', 'gunakan', 'hal', 'hanya', 'hanyalah', \n",
        "                    'hingga', 'ia', 'ialah', 'ibarat', 'ibaratkan', 'ibaratnya', 'ibu', 'ini', \n",
        "                    'inikah', 'inilah', 'itu', 'itukah', 'itulah', 'jadi', 'jadilah', 'jadinya', \n",
        "                    'jauh', 'jika', 'jikalau', 'juga', 'jumlah', 'jumlahnya', 'justru', 'kala', \n",
        "                    'kan', 'karenanya', 'ke', 'keadaan', 'kebetulan', 'kecil', 'kedua', 'keduanya', \n",
        "                    'keinginan', 'kelamaan', 'kelihatan', 'kelihatannya', 'kelima', 'keluar', \n",
        "                    'kembali', 'kemudian', 'kemungkinan', 'kemungkinannya', 'kepada', 'kepadanya', \n",
        "                    'keterlaluan', 'ketika', 'khususnya', 'kini', 'kinilah', 'kira', 'klo', 'kok', \n",
        "                    'lagi', 'lagian', 'lah', 'lain', 'lainnya', 'lalu', 'lanjut', 'lanjutnya', \n",
        "                    'lebih', 'lewat', 'luar', 'macam', 'maka', 'makanya', 'makin', 'malah', \n",
        "                    'malahan', 'mampu', 'mampukah', 'mana', 'manakala', 'manalagi', 'masa', \n",
        "                    'masalah', 'masalahnya', 'masih', 'masihkah', 'masing', 'masing-masing', \n",
        "                    'mau', 'maupun', 'melainkan', 'melalui', 'melihat', 'melihatnya', 'memang', \n",
        "                    'membuat', 'memerlukan', 'memintakan', 'memisalkan', 'memperbuat', \n",
        "                    'mempergunakan', 'mempunyai', 'memulai', 'memungkinkan', 'menaiki', \n",
        "                    'menambahkan', 'menanti', 'menanti-nanti', 'menantikan', 'mendatang', \n",
        "                    'mengenai', 'mengerjakan', 'mengetahui', 'menggunakan', 'menghendaki', \n",
        "                    'mengibaratkan', 'mengibaratkannya', 'menginginkan', 'mengira', 'menjadi', \n",
        "                    'menuju', 'menunjuk', 'menunjuki', 'menunjukan', 'menunjuknya', 'menyeluruh', \n",
        "                    'menyiapkan', 'merasa', 'mereka', 'merekalah', 'merupakan', 'meski', 'meskipun', \n",
        "                    'minta', 'mirip', 'misal', 'misalkan', 'misalnya', 'mungkin', 'mungkinkah', 'nah', \n",
        "                    'naik', 'namun', 'nanti', 'nantinya', 'nyatanya', 'oleh', 'olehnya', 'pada', \n",
        "                    'padahal', 'padanya', 'pak', 'paling', 'panjang', 'pantas', 'para', 'pasti', \n",
        "                    'pastilah', 'penting', 'pentingnya', 'per', 'pertama', 'pertama-tama', 'pihak', \n",
        "                    'pihaknya', 'pukul', 'pula', 'pun', 'punya', 'rasa', 'rasanya', 'rata', 'rupanya',\n",
        "                    'saja', 'sajalah', 'saling', 'sambil', 'sampai', 'sampai-sampai', 'sana', 'sangat', \n",
        "                    'sangatlah', 'sayalah', 'se', 'sebab', 'sebabnya', 'sebagai', 'sebagaimana', 'sebagainya', \n",
        "                    'sebagian', 'sebegini', 'sebegitu', 'sebelum', 'sebesar', 'sebisanya', 'sebuah', 'sebut', \n",
        "                    'sebutlah', 'sebutnya', 'secara', 'secukupnya', 'sedang', 'sedangkan', 'sedemikian', \n",
        "                    'sedikit', 'sedikitnya', 'seenaknya', 'segala', 'segalanya', 'sehingga', 'sejak',\n",
        "                    'sejauh', 'sejenak', 'sejumlah', 'sekadar', 'sekadarnya', 'sekali', 'sekali-kali', \n",
        "                    'sekalian', 'sekaligus', 'sekalipun', 'sekarang', 'sekecil', 'seketika', 'sekiranya', \n",
        "                    'sekitar', 'sekitarnya', 'sekurang-kurangnya', 'sekurangnya', 'sela', 'selain', 'selaku', \n",
        "                    'selalu', 'selama', 'selama-lamanya', 'selamanya', 'selanjutnya', 'seluruh', 'seluruhnya', \n",
        "                    'semacam', 'semakin', 'semampu', 'semampunya', 'semasa', 'semasih', 'semata', 'semata-mata', \n",
        "                    'sementara', 'semisal', 'semisalnya', 'semua', 'semuanya', 'semula', 'sendiri', 'sendirian', \n",
        "                    'sendirinya', 'seolah', 'seolah-olah', 'seorang', 'sepanjang', 'sepantasnya', 'sepantasnyalah', \n",
        "                    'seperti', 'sepertinya', 'sepihak', 'sering', 'seringnya', 'serta', 'seru', 'serupa', 'sesaat', \n",
        "                    'sesama', 'sesampai', 'sesekali', 'seseorang', 'sesuatu', 'sesuatunya', 'sesudah', 'sesudahnya', \n",
        "                    'setelah', 'setempat', 'setengah', 'seterusnya', 'setiap', 'setiba', 'setibanya', 'setinggi', \n",
        "                    'seusai', 'sewaktu', 'sini', 'sinilah', 'soal', 'soalnya', 'suatu', 'supaya', 'tadi', \n",
        "                    'tadinya', 'tahu', 'tahun', 'tak', 'tambah', 'tambahnya', 'tampak', 'tampaknya', 'tandas', \n",
        "                    'tandasnya', 'tanpa', 'tapi', 'telah', 'tempat', 'tengah', 'tentang', 'tentu', 'tentulah', \n",
        "                    'tentunya', 'terasa', 'terbanyak', 'terdahulu', 'terdapat', 'terdiri', 'terhadap', \n",
        "                    'terhadapnya', 'terjadi', 'terjadilah', 'terjadinya', 'terkira', 'terlalu', 'terlebih', \n",
        "                    'terlihat', 'termasuk', 'ternyata', 'tersebut', 'tersebutlah', 'tertentu', 'tertuju', \n",
        "                    'terus', 'terutama', 'tetap', 'tetapi', 'tiap', 'tiba', 'tiba-tiba', 'tinggi', 'toh', \n",
        "                    'tunjuk', 'turut', 'umum', 'umumnya', 'untuk', 'usah', 'usai', 'waduh', 'wah', 'wahai', \n",
        "                    'waktu', 'walau', 'walaupun', 'wong', 'yah', 'yaitu', 'yakin', 'yakni', 'yang', 'ada', \n",
        "                    'adalah', 'akan', 'akankah', 'akhir', 'akhiri', 'akhirnya', 'aku', 'anda', 'apa', 'apaan', \n",
        "                    'apabila', 'apakah', 'atau', 'ataukah', 'ataupun', 'awal', 'awalnya', 'bagaimana', \n",
        "                    'bagaimanakah', 'bagaimanapun', 'baik', 'banyak', 'beginilah', 'belum', 'belumlah', \n",
        "                    'benar', 'benarkah', 'benarlah', 'berakhir', 'berakhirlah', 'berakhirnya', 'berapa', \n",
        "                    'berapakah', 'berapapun', 'berarti', 'berawal', 'berdatangan', 'beri', 'berikan', \n",
        "                    'berjumlah', 'berkali-kali', 'berkata', 'berkehendak', 'berkeinginan', 'berlalu', \n",
        "                    'berlangsung', 'berlebihan', 'bersiap', 'bersiap-siap', 'bertanya', 'bertanya-tanya', \n",
        "                    'bertutur', 'berujar', 'betulkah', 'bilakah', 'bisa', 'bisakah', 'boleh', 'bolehkah', \n",
        "                    'bolehlah', 'bukan', 'bukankah', 'bukanlah', 'cara', 'caranya', 'cukup', 'cukupkah', \n",
        "                    'cukuplah', 'demikianlah', 'di', 'diakhiri', 'diakhirinya', 'diberi', 'diberikan', \n",
        "                    'diberikannya', 'datangkan', 'diingat', 'diingatkan', 'diinginkan', 'dijawab', \n",
        "                    'dijelaskan', 'dijelaskannya', 'dikarenakan', 'dikatakan', 'dikatakannya', 'dikerjakan', \n",
        "                    'diketahui', 'diminta', 'dimintai', 'dimulai', 'dimulailah', 'dimulainya', 'dimungkinkan', \n",
        "                    'dini', 'dipastikan', 'diperkirakan', 'diperlihatkan', 'diperlukan', 'diperlukannya', \n",
        "                    'dipertanyakan', 'disampaikan', 'ditambahkan', 'ditandaskan', 'ditanya', 'ditanyai', \n",
        "                    'ditanyakan', 'ditegaskan', 'ditujukan', 'ditunjukkan', 'ditunjukkannya', 'ditunjuknya', \n",
        "                    'dituturkan', 'dituturkannya', 'diucapkan', 'diucapkannya', 'diungkapkan', 'dua', \n",
        "                    'empat', 'enggak', 'enggaknya', 'entah', 'entahlah', 'hampir', 'hari', 'harus', 'haruslah', \n",
        "                    'harusnya', 'hendak', 'hendaklah', 'hendaknya', 'ikut', 'ingat', 'ingat-ingat', 'ingin',\n",
        "                    'inginkah', 'inginkan', 'jangan', 'jangankan', 'janganlah', 'jawab', 'jawaban', 'jawabnya', \n",
        "                    'jelas', 'jelaskan', 'jelaslah', 'jelasnya', 'kalau', 'kalaulah', 'kalaupun', 'kalian', \n",
        "                    'kami', 'kamilah', 'kamu', 'kamulah', 'kapan', 'kapankah', 'kapanpun', 'karena', 'kasus', \n",
        "                    'kata', 'katakan', 'katakanlah', 'katanya', 'kenapa', 'kesampaian', 'keseluruhan', \n",
        "                    'keseluruhannya', 'kira-kira', 'kiranya', 'kita', 'kitalah', 'kurang', 'lama', 'lamanya', \n",
        "                    'lima', 'melakukan', 'memastikan', 'memberi', 'memberikan', 'memihak', 'meminta', \n",
        "                    'memperkirakan', 'memperlihatkan', 'mempersiapkan', 'mempersoalkan', 'mempertanyakan', \n",
        "                    'menandaskan', 'menanya', 'menanyai', 'menanyakan', 'mendapat', 'mendapatkan', \n",
        "                    'mendatangi', 'mendatangkan', 'menegaskan', 'mengakhiri', 'mengapa', 'mengatakan', 'mengatakannya', \n",
        "                    'mengingat', 'mengingatkan', 'mengucapkan', 'mengucapkannya', 'mengungkapkan', \n",
        "                    'menjawab', 'menjelaskan', 'menunjukkan', 'menurut', 'menuturkan', 'menyampaikan',\n",
        "                    'menyangkut', 'menyatakan', 'menyebutkan', 'meyakini', 'meyakinkan', 'mula', \n",
        "                    'mulai', 'mulailah', 'mulanya', 'nyaris', 'percuma', 'perlu', 'perlukah', 'perlunya', \n",
        "                    'pernah', 'persoalan', 'pertanyaan', 'pertanyakan', 'saat', 'saatnya', 'sama', 'sama-sama', \n",
        "                  'sampaikan', 'satu', 'saya', 'sebaik', 'sebaik-baiknya', 'sebaiknya', 'sebaliknya', \n",
        "                    'sebanyak', 'sebelumnya', 'sebenarnya', 'seberapa', 'sebetulnya', 'segera', 'seharusnya', \n",
        "                    'seingat', 'sema', 'sa', 'sih', 'semaunya', 'sempat', 'seperlunya', 'sesegera', \n",
        "                    'setidak-tidaknya', 'setidaknya', 'siap', 'siapa', 'siapakah', 'siapapun', 'sudah', \n",
        "                    'sudahkah', 'sudahlah', 'ta', 'tanya', 'tanyakan', 'tanyanya', 'tegas', 'tegasnya', \n",
        "                    'tepat', 'terakhir', 'teringat', 'teringat-ingat', 'tersampaikan', 'tidak', 'tidakkah', \n",
        "                    'tidaklah', 'tiga', 'tutur', 'tuturnya', 'ucap', 'ucapnya', \n",
        "                    'ujar', 'ujarnya', 'ungkap', 'ungkapnya', 'waktunya']\n",
        "\n",
        "more_stopwords = ['belas', 'ratus', 'puluh', 'ribu', 'juta', 'satu', 'dua', 'tiga',\n",
        "                  'empat','lima', 'enam', 'tujuh', 'delapan', 'sembilan', 'nol',\n",
        "                  'kayak', 'tidak', 'hai', 'me', 'done', 'ki', 'moga', 'bang',\n",
        "                  'amin', 'kak', 'rplima', 'rpempat', 'rptiga', 'rpdua', 'rpsatu',\n",
        "                  'rpenam', 'rptujuh', 'rpdelapan', 'rpsembilan', 'and', 'je', \n",
        "                  'nak', 'you', 'thank you']"
      ],
      "execution_count": 41,
      "outputs": []
    },
    {
      "cell_type": "code",
      "metadata": {
        "id": "g1j2UbjOEoGz"
      },
      "source": [
        "def createSlang(filename):\n",
        "  df = pd.read_csv(filename, header=0)\n",
        "  return dict(df.values)\n",
        "\n",
        "def addSastrawiStopword(stopwordList:list):\n",
        "  stop_factory = StopWordRemoverFactory().get_stop_words()\n",
        "  stopword_list = stop_factory + stopwordList \n",
        "  dictionary = ArrayDictionary(stopword_list)\n",
        "  stopping = StopWordRemover(dictionary)\n",
        "  return stopping\n",
        "\n",
        "nlp = Lemmatizer()\n",
        "def callingFunction(text:str, slang_words=None, sastrawi_stopwords=None, stopword=None, lemmatize = False):\n",
        "  texts = re.sub('[^\\w\\s]', ' ', str(text).lower().strip())\n",
        "  texts = texts.split()\n",
        "  if lemmatize == True:\n",
        "    texts = [nlp.lemmatize(txt) for txt in texts]\n",
        "  if slang_words is not None:\n",
        "    for i, word in enumerate(texts):\n",
        "      if word in slang_words.keys():\n",
        "        texts[i] = slang_words[word]\n",
        "  if sastrawi_stopwords is not None:\n",
        "    texts = [sastrawi_stopwords.remove(txt) for txt in texts]\n",
        "  if stopword is not None:\n",
        "    texts = [word for word in texts if word not in stopword]\n",
        "  return ' '.join(texts)"
      ],
      "execution_count": 51,
      "outputs": []
    },
    {
      "cell_type": "code",
      "metadata": {
        "id": "yzLmZwr0F3br"
      },
      "source": [
        "slang_dict = createSlang(url+'slang-words.csv')\n",
        "slang_dict['tau'] = 'tahu'"
      ],
      "execution_count": 52,
      "outputs": []
    },
    {
      "cell_type": "code",
      "metadata": {
        "id": "h8H5o-CkGHFN"
      },
      "source": [
        "sastrawi_stopword = addSastrawiStopword(extra_stopwords)"
      ],
      "execution_count": 53,
      "outputs": []
    },
    {
      "cell_type": "code",
      "metadata": {
        "id": "_vkWwjUOGa-T"
      },
      "source": [
        "extra_stopwords += more_stopwords\n",
        "stopword_id = list(stopwords.words('indonesian'))\n",
        "stopword_id += extra_stopwords"
      ],
      "execution_count": 54,
      "outputs": []
    },
    {
      "cell_type": "code",
      "metadata": {
        "id": "8DNib_mAG5dU"
      },
      "source": [
        "df['cleaning_text'] = df['question'].apply(lambda x: callingFunction(x, slang_words=slang_dict, sastrawi_stopwords=sastrawi_stopword, stopword=stopword_id, lemmatize=True))"
      ],
      "execution_count": 55,
      "outputs": []
    },
    {
      "cell_type": "code",
      "metadata": {
        "id": "xhnFrMjWHUgH",
        "outputId": "56348c38-3b11-4c8f-f09a-b223f54f88cc",
        "colab": {
          "base_uri": "https://localhost:8080/",
          "height": 206
        }
      },
      "source": [
        "df.head()"
      ],
      "execution_count": 56,
      "outputs": [
        {
          "output_type": "execute_result",
          "data": {
            "text/html": [
              "<div>\n",
              "<style scoped>\n",
              "    .dataframe tbody tr th:only-of-type {\n",
              "        vertical-align: middle;\n",
              "    }\n",
              "\n",
              "    .dataframe tbody tr th {\n",
              "        vertical-align: top;\n",
              "    }\n",
              "\n",
              "    .dataframe thead th {\n",
              "        text-align: right;\n",
              "    }\n",
              "</style>\n",
              "<table border=\"1\" class=\"dataframe\">\n",
              "  <thead>\n",
              "    <tr style=\"text-align: right;\">\n",
              "      <th></th>\n",
              "      <th>question</th>\n",
              "      <th>passage</th>\n",
              "      <th>seq_label</th>\n",
              "      <th>cleaning_text</th>\n",
              "    </tr>\n",
              "  </thead>\n",
              "  <tbody>\n",
              "    <tr>\n",
              "      <th>0</th>\n",
              "      <td>['Kelompok', 'apakah', 'yang', 'menyatakan', '...</td>\n",
              "      <td>['Lewat', 'telepon', 'ke', 'kantor', 'berita',...</td>\n",
              "      <td>['O', 'O', 'O', 'O', 'O', 'O', 'O', 'O', 'O', ...</td>\n",
              "      <td>kelompok   nyata tanggung   ledak  srinagar</td>\n",
              "    </tr>\n",
              "    <tr>\n",
              "      <th>1</th>\n",
              "      <td>['Di', 'pulau', 'manakah', ',', 'PT', 'Mutiara...</td>\n",
              "      <td>['Sejak', 'tahun', '1980', '-', 'an', 'di', 'K...</td>\n",
              "      <td>['O', 'O', 'O', 'O', 'O', 'O', 'O', 'O', 'O', ...</td>\n",
              "      <td>pulau  pt mutiara indopearl lokasi  dekade 20...</td>\n",
              "    </tr>\n",
              "    <tr>\n",
              "      <th>2</th>\n",
              "      <td>['Apakah', 'warna', 'pasir', 'pada', 'pesisir'...</td>\n",
              "      <td>['Titik', 'kedua', 'adalah', 'Pantai', 'Baturu...</td>\n",
              "      <td>['O', 'O', 'O', 'O', 'O', 'O', 'O', 'O', 'O', ...</td>\n",
              "      <td>warna pasir  pesisir pantai baturumah  letak ...</td>\n",
              "    </tr>\n",
              "    <tr>\n",
              "      <th>3</th>\n",
              "      <td>['Apa', 'nama', 'perusahaan', 'China', 'yang',...</td>\n",
              "      <td>['Sichuan', ',', 'Kompas', '-', 'Pemerintah', ...</td>\n",
              "      <td>['O', 'O', 'O', 'O', 'O', 'O', 'O', 'O', 'O', ...</td>\n",
              "      <td>nama usaha china  kerja   pt indelberg indone...</td>\n",
              "    </tr>\n",
              "    <tr>\n",
              "      <th>4</th>\n",
              "      <td>['Siapa', 'yang', 'akan', 'memindahkan', 'Patu...</td>\n",
              "      <td>['Jakarta', ',', 'Kompas', '-', 'Patung', 'Kar...</td>\n",
              "      <td>['O', 'O', 'O', 'O', 'O', 'O', 'O', 'O', 'O', ...</td>\n",
              "      <td>pindah patung kartini</td>\n",
              "    </tr>\n",
              "  </tbody>\n",
              "</table>\n",
              "</div>"
            ],
            "text/plain": [
              "                                            question  ...                                      cleaning_text\n",
              "0  ['Kelompok', 'apakah', 'yang', 'menyatakan', '...  ...        kelompok   nyata tanggung   ledak  srinagar\n",
              "1  ['Di', 'pulau', 'manakah', ',', 'PT', 'Mutiara...  ...   pulau  pt mutiara indopearl lokasi  dekade 20...\n",
              "2  ['Apakah', 'warna', 'pasir', 'pada', 'pesisir'...  ...   warna pasir  pesisir pantai baturumah  letak ...\n",
              "3  ['Apa', 'nama', 'perusahaan', 'China', 'yang',...  ...   nama usaha china  kerja   pt indelberg indone...\n",
              "4  ['Siapa', 'yang', 'akan', 'memindahkan', 'Patu...  ...                          pindah patung kartini    \n",
              "\n",
              "[5 rows x 4 columns]"
            ]
          },
          "metadata": {},
          "execution_count": 56
        }
      ]
    },
    {
      "cell_type": "code",
      "metadata": {
        "id": "PMWp9OzMHnKR",
        "outputId": "d00d2dc1-dab4-419f-fab8-5c5570f67aac",
        "colab": {
          "base_uri": "https://localhost:8080/",
          "height": 424
        }
      },
      "source": [
        "valid[~valid.duplicated(subset='question')]"
      ],
      "execution_count": 57,
      "outputs": [
        {
          "output_type": "execute_result",
          "data": {
            "text/html": [
              "<div>\n",
              "<style scoped>\n",
              "    .dataframe tbody tr th:only-of-type {\n",
              "        vertical-align: middle;\n",
              "    }\n",
              "\n",
              "    .dataframe tbody tr th {\n",
              "        vertical-align: top;\n",
              "    }\n",
              "\n",
              "    .dataframe thead th {\n",
              "        text-align: right;\n",
              "    }\n",
              "</style>\n",
              "<table border=\"1\" class=\"dataframe\">\n",
              "  <thead>\n",
              "    <tr style=\"text-align: right;\">\n",
              "      <th></th>\n",
              "      <th>question</th>\n",
              "      <th>passage</th>\n",
              "      <th>seq_label</th>\n",
              "    </tr>\n",
              "  </thead>\n",
              "  <tbody>\n",
              "    <tr>\n",
              "      <th>0</th>\n",
              "      <td>['Apa', 'nama', 'latin', 'dari', 'harimau', 'S...</td>\n",
              "      <td>['Selain', 'orangutan', ',', 'satwa', 'yang', ...</td>\n",
              "      <td>['O', 'O', 'O', 'O', 'O', 'O', 'O', 'O', 'O', ...</td>\n",
              "    </tr>\n",
              "    <tr>\n",
              "      <th>1</th>\n",
              "      <td>['Berapa', 'penumpang', 'yang', 'turut', 'dala...</td>\n",
              "      <td>['Pesawat', 'dengan', 'nomor', 'penerbangan', ...</td>\n",
              "      <td>['O', 'O', 'O', 'O', 'O', 'O', 'O', 'O', 'O', ...</td>\n",
              "    </tr>\n",
              "    <tr>\n",
              "      <th>2</th>\n",
              "      <td>['Kepala', 'Badan', 'apakah', 'Mohamed', 'ElBa...</td>\n",
              "      <td>['Pernyataan', 'tersebut', 'disampaikan', 'Lar...</td>\n",
              "      <td>['O', 'O', 'O', 'O', 'O', 'O', 'O', 'O', 'O', ...</td>\n",
              "    </tr>\n",
              "    <tr>\n",
              "      <th>3</th>\n",
              "      <td>['Berapa', 'kalikah', 'Lin', 'Dan', 'gagal', '...</td>\n",
              "      <td>['Tak', 'seperti', 'yang', 'diharapkan', ',', ...</td>\n",
              "      <td>['O', 'O', 'O', 'O', 'O', 'O', 'O', 'O', 'O', ...</td>\n",
              "    </tr>\n",
              "    <tr>\n",
              "      <th>4</th>\n",
              "      <td>['Apakah', 'nama', 'fakultas', 'tempat', 'Drh'...</td>\n",
              "      <td>['Yogyakarta', ',', 'Kompas', '-', 'Drh', 'Yud...</td>\n",
              "      <td>['O', 'O', 'O', 'O', 'O', 'O', 'O', 'O', 'O', ...</td>\n",
              "    </tr>\n",
              "    <tr>\n",
              "      <th>...</th>\n",
              "      <td>...</td>\n",
              "      <td>...</td>\n",
              "      <td>...</td>\n",
              "    </tr>\n",
              "    <tr>\n",
              "      <th>305</th>\n",
              "      <td>['Kapankah', 'pelaksanaan', 'Tokyo', 'Performi...</td>\n",
              "      <td>['Pemusik', 'Dwiki', 'Dharmawan', '(', '39', '...</td>\n",
              "      <td>['O', 'O', 'O', 'O', 'O', 'O', 'O', 'O', 'O', ...</td>\n",
              "    </tr>\n",
              "    <tr>\n",
              "      <th>307</th>\n",
              "      <td>['Apakah', 'nama', 'film', 'yang', 'masuk', 'n...</td>\n",
              "      <td>['Diurutkan', 'sesuai', 'dengan', 'ranking', '...</td>\n",
              "      <td>['O', 'O', 'O', 'O', 'O', 'O', 'O', 'O', 'O', ...</td>\n",
              "    </tr>\n",
              "    <tr>\n",
              "      <th>308</th>\n",
              "      <td>['Berasal', 'dari', 'manakah', ',', 'Jary', 'W...</td>\n",
              "      <td>['Jimmy', 'Arnold', '(', '54', ')', ',', 'penc...</td>\n",
              "      <td>['O', 'O', 'O', 'O', 'O', 'O', 'O', 'O', 'O', ...</td>\n",
              "    </tr>\n",
              "    <tr>\n",
              "      <th>309</th>\n",
              "      <td>['Apakah', 'nama', 'tim', 'yang', 'diketuai', ...</td>\n",
              "      <td>['Penandatanganan', 'MOU', 'dilakukan', 'Mente...</td>\n",
              "      <td>['O', 'O', 'O', 'O', 'O', 'O', 'O', 'O', 'O', ...</td>\n",
              "    </tr>\n",
              "    <tr>\n",
              "      <th>310</th>\n",
              "      <td>['Siapa', 'pencipta', 'komposisi', '\"', 'Balin...</td>\n",
              "      <td>['Dalam', 'empat', 'hari', 'yang', 'petangnya'...</td>\n",
              "      <td>['O', 'O', 'O', 'O', 'O', 'O', 'O', 'O', 'O', ...</td>\n",
              "    </tr>\n",
              "  </tbody>\n",
              "</table>\n",
              "<p>309 rows × 3 columns</p>\n",
              "</div>"
            ],
            "text/plain": [
              "                                              question  ...                                          seq_label\n",
              "0    ['Apa', 'nama', 'latin', 'dari', 'harimau', 'S...  ...  ['O', 'O', 'O', 'O', 'O', 'O', 'O', 'O', 'O', ...\n",
              "1    ['Berapa', 'penumpang', 'yang', 'turut', 'dala...  ...  ['O', 'O', 'O', 'O', 'O', 'O', 'O', 'O', 'O', ...\n",
              "2    ['Kepala', 'Badan', 'apakah', 'Mohamed', 'ElBa...  ...  ['O', 'O', 'O', 'O', 'O', 'O', 'O', 'O', 'O', ...\n",
              "3    ['Berapa', 'kalikah', 'Lin', 'Dan', 'gagal', '...  ...  ['O', 'O', 'O', 'O', 'O', 'O', 'O', 'O', 'O', ...\n",
              "4    ['Apakah', 'nama', 'fakultas', 'tempat', 'Drh'...  ...  ['O', 'O', 'O', 'O', 'O', 'O', 'O', 'O', 'O', ...\n",
              "..                                                 ...  ...                                                ...\n",
              "305  ['Kapankah', 'pelaksanaan', 'Tokyo', 'Performi...  ...  ['O', 'O', 'O', 'O', 'O', 'O', 'O', 'O', 'O', ...\n",
              "307  ['Apakah', 'nama', 'film', 'yang', 'masuk', 'n...  ...  ['O', 'O', 'O', 'O', 'O', 'O', 'O', 'O', 'O', ...\n",
              "308  ['Berasal', 'dari', 'manakah', ',', 'Jary', 'W...  ...  ['O', 'O', 'O', 'O', 'O', 'O', 'O', 'O', 'O', ...\n",
              "309  ['Apakah', 'nama', 'tim', 'yang', 'diketuai', ...  ...  ['O', 'O', 'O', 'O', 'O', 'O', 'O', 'O', 'O', ...\n",
              "310  ['Siapa', 'pencipta', 'komposisi', '\"', 'Balin...  ...  ['O', 'O', 'O', 'O', 'O', 'O', 'O', 'O', 'O', ...\n",
              "\n",
              "[309 rows x 3 columns]"
            ]
          },
          "metadata": {},
          "execution_count": 57
        }
      ]
    },
    {
      "cell_type": "code",
      "metadata": {
        "id": "wvxcEkWZH8Vo"
      },
      "source": [
        "valid['cleaning_text'] = valid['question'].apply(lambda x: callingFunction(x, slang_words=slang_dict, sastrawi_stopwords=sastrawi_stopword, stopword=stopword_id, lemmatize=True))"
      ],
      "execution_count": 58,
      "outputs": []
    },
    {
      "cell_type": "code",
      "metadata": {
        "id": "uviLYDD2IRwb",
        "outputId": "9ca7aa88-d37b-4cba-97a5-07579dfc6149",
        "colab": {
          "base_uri": "https://localhost:8080/",
          "height": 206
        }
      },
      "source": [
        "valid.head()"
      ],
      "execution_count": 59,
      "outputs": [
        {
          "output_type": "execute_result",
          "data": {
            "text/html": [
              "<div>\n",
              "<style scoped>\n",
              "    .dataframe tbody tr th:only-of-type {\n",
              "        vertical-align: middle;\n",
              "    }\n",
              "\n",
              "    .dataframe tbody tr th {\n",
              "        vertical-align: top;\n",
              "    }\n",
              "\n",
              "    .dataframe thead th {\n",
              "        text-align: right;\n",
              "    }\n",
              "</style>\n",
              "<table border=\"1\" class=\"dataframe\">\n",
              "  <thead>\n",
              "    <tr style=\"text-align: right;\">\n",
              "      <th></th>\n",
              "      <th>question</th>\n",
              "      <th>passage</th>\n",
              "      <th>seq_label</th>\n",
              "      <th>cleaning_text</th>\n",
              "    </tr>\n",
              "  </thead>\n",
              "  <tbody>\n",
              "    <tr>\n",
              "      <th>0</th>\n",
              "      <td>['Apa', 'nama', 'latin', 'dari', 'harimau', 'S...</td>\n",
              "      <td>['Selain', 'orangutan', ',', 'satwa', 'yang', ...</td>\n",
              "      <td>['O', 'O', 'O', 'O', 'O', 'O', 'O', 'O', 'O', ...</td>\n",
              "      <td>nama latin  harimau sumatera</td>\n",
              "    </tr>\n",
              "    <tr>\n",
              "      <th>1</th>\n",
              "      <td>['Berapa', 'penumpang', 'yang', 'turut', 'dala...</td>\n",
              "      <td>['Pesawat', 'dengan', 'nomor', 'penerbangan', ...</td>\n",
              "      <td>['O', 'O', 'O', 'O', 'O', 'O', 'O', 'O', 'O', ...</td>\n",
              "      <td>tumpang    terbang  181 jurus medan jakarta  ...</td>\n",
              "    </tr>\n",
              "    <tr>\n",
              "      <th>2</th>\n",
              "      <td>['Kepala', 'Badan', 'apakah', 'Mohamed', 'ElBa...</td>\n",
              "      <td>['Pernyataan', 'tersebut', 'disampaikan', 'Lar...</td>\n",
              "      <td>['O', 'O', 'O', 'O', 'O', 'O', 'O', 'O', 'O', ...</td>\n",
              "      <td>kepala badan  mohamed elbaradei</td>\n",
              "    </tr>\n",
              "    <tr>\n",
              "      <th>3</th>\n",
              "      <td>['Berapa', 'kalikah', 'Lin', 'Dan', 'gagal', '...</td>\n",
              "      <td>['Tak', 'seperti', 'yang', 'diharapkan', ',', ...</td>\n",
              "      <td>['O', 'O', 'O', 'O', 'O', 'O', 'O', 'O', 'O', ...</td>\n",
              "      <td>kali lin  gagal main netting  lawan taufik hi...</td>\n",
              "    </tr>\n",
              "    <tr>\n",
              "      <th>4</th>\n",
              "      <td>['Apakah', 'nama', 'fakultas', 'tempat', 'Drh'...</td>\n",
              "      <td>['Yogyakarta', ',', 'Kompas', '-', 'Drh', 'Yud...</td>\n",
              "      <td>['O', 'O', 'O', 'O', 'O', 'O', 'O', 'O', 'O', ...</td>\n",
              "      <td>nama fakultas  drh yuda heru fibrianto   dosen</td>\n",
              "    </tr>\n",
              "  </tbody>\n",
              "</table>\n",
              "</div>"
            ],
            "text/plain": [
              "                                            question  ...                                      cleaning_text\n",
              "0  ['Apa', 'nama', 'latin', 'dari', 'harimau', 'S...  ...                       nama latin  harimau sumatera\n",
              "1  ['Berapa', 'penumpang', 'yang', 'turut', 'dala...  ...   tumpang    terbang  181 jurus medan jakarta  ...\n",
              "2  ['Kepala', 'Badan', 'apakah', 'Mohamed', 'ElBa...  ...                    kepala badan  mohamed elbaradei\n",
              "3  ['Berapa', 'kalikah', 'Lin', 'Dan', 'gagal', '...  ...   kali lin  gagal main netting  lawan taufik hi...\n",
              "4  ['Apakah', 'nama', 'fakultas', 'tempat', 'Drh'...  ...     nama fakultas  drh yuda heru fibrianto   dosen\n",
              "\n",
              "[5 rows x 4 columns]"
            ]
          },
          "metadata": {},
          "execution_count": 59
        }
      ]
    },
    {
      "cell_type": "code",
      "metadata": {
        "id": "Izg9-Yt7ITQC"
      },
      "source": [
        "df.to_csv(url+'train_has_preprocess.csv', index=False)\n",
        "valid.to_csv(url+'valid_has_preprocess.csv', index=False)"
      ],
      "execution_count": 60,
      "outputs": []
    },
    {
      "cell_type": "code",
      "metadata": {
        "id": "He3acfXKIkn8"
      },
      "source": [
        ""
      ],
      "execution_count": null,
      "outputs": []
    }
  ]
}